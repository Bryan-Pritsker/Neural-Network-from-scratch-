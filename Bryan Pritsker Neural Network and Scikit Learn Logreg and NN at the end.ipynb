{
 "cells": [
  {
   "cell_type": "code",
   "execution_count": 1,
   "id": "a99c34cf",
   "metadata": {},
   "outputs": [],
   "source": [
    "import numpy as np\n",
    "import pandas as pd\n",
    "import matplotlib.pyplot as plt\n",
    "from sklearn.model_selection import train_test_split\n",
    "from sklearn.metrics import accuracy_score"
   ]
  },
  {
   "cell_type": "code",
   "execution_count": 2,
   "id": "9acb4ba1",
   "metadata": {},
   "outputs": [
    {
     "data": {
      "text/html": [
       "<div>\n",
       "<style scoped>\n",
       "    .dataframe tbody tr th:only-of-type {\n",
       "        vertical-align: middle;\n",
       "    }\n",
       "\n",
       "    .dataframe tbody tr th {\n",
       "        vertical-align: top;\n",
       "    }\n",
       "\n",
       "    .dataframe thead th {\n",
       "        text-align: right;\n",
       "    }\n",
       "</style>\n",
       "<table border=\"1\" class=\"dataframe\">\n",
       "  <thead>\n",
       "    <tr style=\"text-align: right;\">\n",
       "      <th></th>\n",
       "      <th>0</th>\n",
       "      <th>1</th>\n",
       "      <th>2</th>\n",
       "      <th>3</th>\n",
       "      <th>4</th>\n",
       "      <th>5</th>\n",
       "      <th>6</th>\n",
       "      <th>7</th>\n",
       "      <th>8</th>\n",
       "    </tr>\n",
       "  </thead>\n",
       "  <tbody>\n",
       "    <tr>\n",
       "      <th>0</th>\n",
       "      <td>6</td>\n",
       "      <td>148</td>\n",
       "      <td>72</td>\n",
       "      <td>35</td>\n",
       "      <td>0</td>\n",
       "      <td>33.6</td>\n",
       "      <td>0.627</td>\n",
       "      <td>50</td>\n",
       "      <td>1</td>\n",
       "    </tr>\n",
       "    <tr>\n",
       "      <th>1</th>\n",
       "      <td>1</td>\n",
       "      <td>85</td>\n",
       "      <td>66</td>\n",
       "      <td>29</td>\n",
       "      <td>0</td>\n",
       "      <td>26.6</td>\n",
       "      <td>0.351</td>\n",
       "      <td>31</td>\n",
       "      <td>0</td>\n",
       "    </tr>\n",
       "    <tr>\n",
       "      <th>2</th>\n",
       "      <td>8</td>\n",
       "      <td>183</td>\n",
       "      <td>64</td>\n",
       "      <td>0</td>\n",
       "      <td>0</td>\n",
       "      <td>23.3</td>\n",
       "      <td>0.672</td>\n",
       "      <td>32</td>\n",
       "      <td>1</td>\n",
       "    </tr>\n",
       "    <tr>\n",
       "      <th>3</th>\n",
       "      <td>1</td>\n",
       "      <td>89</td>\n",
       "      <td>66</td>\n",
       "      <td>23</td>\n",
       "      <td>94</td>\n",
       "      <td>28.1</td>\n",
       "      <td>0.167</td>\n",
       "      <td>21</td>\n",
       "      <td>0</td>\n",
       "    </tr>\n",
       "    <tr>\n",
       "      <th>4</th>\n",
       "      <td>0</td>\n",
       "      <td>137</td>\n",
       "      <td>40</td>\n",
       "      <td>35</td>\n",
       "      <td>168</td>\n",
       "      <td>43.1</td>\n",
       "      <td>2.288</td>\n",
       "      <td>33</td>\n",
       "      <td>1</td>\n",
       "    </tr>\n",
       "  </tbody>\n",
       "</table>\n",
       "</div>"
      ],
      "text/plain": [
       "   0    1   2   3    4     5      6   7  8\n",
       "0  6  148  72  35    0  33.6  0.627  50  1\n",
       "1  1   85  66  29    0  26.6  0.351  31  0\n",
       "2  8  183  64   0    0  23.3  0.672  32  1\n",
       "3  1   89  66  23   94  28.1  0.167  21  0\n",
       "4  0  137  40  35  168  43.1  2.288  33  1"
      ]
     },
     "execution_count": 2,
     "metadata": {},
     "output_type": "execute_result"
    }
   ],
   "source": [
    "df = pd.read_csv(\"pima-indians-diabetes.csv\", header = None)\n",
    "df.head()"
   ]
  },
  {
   "cell_type": "code",
   "execution_count": 3,
   "id": "02fcef6a",
   "metadata": {},
   "outputs": [],
   "source": [
    "X = df.to_numpy()\n",
    "y = X[:,-1]\n",
    "X = X[:, :-1]"
   ]
  },
  {
   "cell_type": "code",
   "execution_count": 4,
   "id": "8e514236",
   "metadata": {},
   "outputs": [
    {
     "data": {
      "text/plain": [
       "array([[  6.   , 148.   ,  72.   , ...,  33.6  ,   0.627,  50.   ],\n",
       "       [  1.   ,  85.   ,  66.   , ...,  26.6  ,   0.351,  31.   ],\n",
       "       [  8.   , 183.   ,  64.   , ...,  23.3  ,   0.672,  32.   ],\n",
       "       ...,\n",
       "       [  5.   , 121.   ,  72.   , ...,  26.2  ,   0.245,  30.   ],\n",
       "       [  1.   , 126.   ,  60.   , ...,  30.1  ,   0.349,  47.   ],\n",
       "       [  1.   ,  93.   ,  70.   , ...,  30.4  ,   0.315,  23.   ]])"
      ]
     },
     "execution_count": 4,
     "metadata": {},
     "output_type": "execute_result"
    }
   ],
   "source": [
    "X"
   ]
  },
  {
   "cell_type": "code",
   "execution_count": 5,
   "id": "3ced082d",
   "metadata": {},
   "outputs": [
    {
     "data": {
      "text/plain": [
       "8"
      ]
     },
     "execution_count": 5,
     "metadata": {},
     "output_type": "execute_result"
    }
   ],
   "source": [
    "X.shape[1]"
   ]
  },
  {
   "cell_type": "code",
   "execution_count": 6,
   "id": "1e1af39b",
   "metadata": {},
   "outputs": [],
   "source": [
    "# Normalize X\n",
    "X_normalized = (X - X.mean()) / X.std()\n",
    "\n",
    "#X_normalized"
   ]
  },
  {
   "cell_type": "code",
   "execution_count": 7,
   "id": "af381b28",
   "metadata": {},
   "outputs": [],
   "source": [
    "X_train, X_test, y_train, y_test = train_test_split(X_normalized, y, test_size = 0.2, random_state = 70)"
   ]
  },
  {
   "cell_type": "code",
   "execution_count": 8,
   "id": "9523ded7",
   "metadata": {},
   "outputs": [],
   "source": [
    "# We will use the Sigmoid Activation Function throughout the neural network\n",
    "\n",
    "def sigmoid(z):\n",
    "    return  1 / (1 + np.exp(-z))\n",
    "\n",
    "# Derivative of the sigmoid function\n",
    "def sigmoid_derivative(z):\n",
    "    return z * (1 - z)\n",
    "\n",
    "# Initialize weights and biases\n",
    "def initialize(input_size, hidden_layer_size, output_size):\n",
    "    network = {}\n",
    "  #our neural network will have an input layer, 1 hidden layer, and an output layer\n",
    "  #here we initialize the weights and bias at the input layer and hidden layer with a specific shape of random values\n",
    "    network[\"W1\"] = np.random.randn(input_size, hidden_layer_size)   #W1 represents the matrix containing all the weights for my neurons in the input layer\n",
    "    network[\"b1\"] = np.random.randn(hidden_layer_size)   #b1 represents a vector containing 5 biases (since there are 5 neurons in the hidden layer)\n",
    "    network[\"W2\"] = np.random.randn(hidden_layer_size, output_size)   #W2 represents the matrix containing all the weights for my neurons in the hidden layer\n",
    "    network[\"b2\"] = np.random.randn(output_size)    #b2 represents a vector containing one bias (since there is one neuron in the output layer)\n",
    "    return network\n",
    "\n",
    "# Forward propagation\n",
    "def forward_prop(network, X):\n",
    "    z1 = np.dot(X, network[\"W1\"]) + network[\"b1\"]\n",
    "    output_to_layer1 = sigmoid(z1)   #output that gets sent from input layer to hidden layer\n",
    "    z2 = np.dot(output_to_layer1, network[\"W2\"]) + network[\"b2\"]\n",
    "    final_output = sigmoid(z2)  #output that gets sent from hidden layer to output layer\n",
    "    return output_to_layer1, final_output\n",
    "\n",
    "# Backward propagation\n",
    "def backward_prop(network, X, y, output_to_layer1, final_output, learning_rate):\n",
    "\n",
    "    # Calculate the error for the output layer\n",
    "    error = y - final_output\n",
    "\n",
    "    # Calculate the gradient for the weights and biases of the output layer\n",
    "    dW2 = (1 / X.shape[0]) * np.dot(output_to_layer1.T, error)\n",
    "    db2 = (1 / X.shape[0]) * np.sum(error, axis=0)\n",
    "\n",
    "    # Calculate the error for the hidden layer (this is the derivative of the cost function with respect to input in the output layer). The input in outer layer is the output of the hidden layer!\n",
    "    error_hidden = np.dot(error, network[\"W2\"].T) * sigmoid_derivative(output_to_layer1)\n",
    "\n",
    "    # Calculate the gradient for the weights and biases of the hidden layer\n",
    "    dW1 = (1 / X.shape[0]) * np.dot(X.T, error_hidden)\n",
    "    db1 = (1 / X.shape[0]) * np.sum(error_hidden, axis=0)\n",
    "\n",
    "    # Update the weights and biases\n",
    "    network[\"W1\"] += learning_rate * dW1\n",
    "    network[\"b1\"] += learning_rate * db1\n",
    "    network[\"W2\"] += learning_rate * dW2\n",
    "    network[\"b2\"] += learning_rate * db2\n",
    "\n",
    "    return network\n",
    "\n",
    "# Function that calculates metrics\n",
    "def calculate_metrics(y_actual, y_predicted):\n",
    "    accuracy = accuracy_score(y_actual, y_predicted)\n",
    "    precision = np.sum((y_actual == 1) & (y_predicted == 1)) / np.sum(y_predicted == 1)\n",
    "    recall = np.sum((y_actual == 1) & (y_predicted == 1)) / np.sum(y_actual == 1)\n",
    "    f1 = 2 * (precision * recall) / (precision + recall)\n",
    "    return accuracy, precision, recall, f1"
   ]
  },
  {
   "cell_type": "code",
   "execution_count": 9,
   "id": "07d68b3b",
   "metadata": {},
   "outputs": [],
   "source": [
    "# Set learning rate and number of iterations we want to run\n",
    "learning_rate = 0.005\n",
    "iterations = 70000\n",
    "\n",
    "# Initialize weights and biases randomly using the random library\n",
    "network = initialize(X_train.shape[1], 5, 1)   #I want 5 neurons in the hidden layer and 1 neuron in the output layer. (The initial layer has the same number of neurons as features in X)\n",
    "\n",
    "# We will store the cost and accuracy for each iteration\n",
    "NN_errors = []\n",
    "NN_accuracy = []\n",
    "\n",
    "# Train the neural network on your fixed iterations and fixed learning rate\n",
    "for i in range(iterations):\n",
    "    output_to_layer1, final_output = forward_prop(network, X_train)\n",
    "    network = backward_prop(network, X_train, y_train.reshape(-1, 1), output_to_layer1, final_output, learning_rate)\n",
    "\n",
    "    # Use mean squared error to calculate cost\n",
    "    cost = np.mean(np.square(y_train.reshape(-1, 1) - final_output))\n",
    "    NN_errors.append(cost)\n",
    "\n",
    "    #Then calculate accuracy of model\n",
    "    predictions = np.round(final_output)\n",
    "    accuracy = accuracy_score(y_train.reshape(-1, 1), predictions)\n",
    "    NN_accuracy.append(accuracy)\n"
   ]
  },
  {
   "cell_type": "markdown",
   "id": "8d5d0a02",
   "metadata": {},
   "source": [
    "## Accuracy of my Neural Network:"
   ]
  },
  {
   "cell_type": "code",
   "execution_count": 10,
   "id": "4f961fe5",
   "metadata": {},
   "outputs": [
    {
     "name": "stdout",
     "output_type": "stream",
     "text": [
      "Training Metrics:\n",
      "Accuracy: 77.04%\n",
      "Precision: 0.71\n",
      "Recall: 0.56\n",
      "F1 Score: 0.62\n",
      "\n",
      "\n",
      "Testing Metrics:\n",
      "Accuracy: 72.08%\n",
      "Precision: 0.68\n",
      "Recall: 0.48\n",
      "F1 Score: 0.57\n"
     ]
    }
   ],
   "source": [
    "# Convert final outputs to binary predictions for training set\n",
    "train_predictions = np.round(final_output).flatten()  # Flatten to match y's shape\n",
    "\n",
    "# Use the calculate metrics function to get f1 score, precision, etc... for training set\n",
    "train_acc, train_prec, train_rec, train_f1 = calculate_metrics(y_train, train_predictions)\n",
    "\n",
    "# Now convert final outputs to binary predictions in the testing set and\n",
    "#use the calculate metrics function to get f1 score, precision, etc... for testing set\n",
    "test_output_layer1, test_final_output = forward_prop(network, X_test)\n",
    "test_predictions = np.round(test_final_output).flatten()  # Flatten to match y's shape\n",
    "\n",
    "test_acc, test_prec, test_rec, test_f1 = calculate_metrics(y_test, test_predictions)\n",
    "\n",
    "# Reporting results\n",
    "print(\"Training Metrics:\")\n",
    "print(f\"Accuracy: {train_acc*100:.2f}%\")\n",
    "print(f\"Precision: {train_prec:.2f}\")\n",
    "print(f\"Recall: {train_rec:.2f}\")\n",
    "print(f\"F1 Score: {train_f1:.2f}\")\n",
    "\n",
    "print(\"\\n\\nTesting Metrics:\")\n",
    "print(f\"Accuracy: {test_acc*100:.2f}%\")\n",
    "print(f\"Precision: {test_prec:.2f}\")\n",
    "print(f\"Recall: {test_rec:.2f}\")\n",
    "print(f\"F1 Score: {test_f1:.2f}\")"
   ]
  },
  {
   "cell_type": "code",
   "execution_count": 11,
   "id": "3e9d2c1e",
   "metadata": {},
   "outputs": [
    {
     "data": {
      "text/plain": [
       "[<matplotlib.lines.Line2D at 0x144c44b98a0>]"
      ]
     },
     "execution_count": 11,
     "metadata": {},
     "output_type": "execute_result"
    },
    {
     "data": {
      "image/png": "[encoded data removed]",
      "text/plain": [
       "<Figure size 800x700 with 1 Axes>"
      ]
     },
     "metadata": {},
     "output_type": "display_data"
    },
    {
     "data": {
      "image/png": "[encoded data removed]",
      "text/plain": [
       "<Figure size 800x700 with 1 Axes>"
      ]
     },
     "metadata": {},
     "output_type": "display_data"
    }
   ],
   "source": [
    "iteration_list = [n for n in range(iterations)]\n",
    "\n",
    "plt.figure(figsize = (8, 7))\n",
    "plt.title(\"The Neural Network Cost / Error\", fontsize= 14.0, fontweight='bold')\n",
    "plt.xlabel(\"Iteration\", labelpad = 10, fontsize= 12.0)\n",
    "plt.ylabel(\"Error\", labelpad = 20, fontsize= 12.0)\n",
    "#plt.xticks(np.arange(0, iterations + 2000, step=2000))\n",
    "plt.plot(iteration_list, NN_errors, linestyle = \"-\", lw = 2, color = \"firebrick\")\n",
    "\n",
    "plt.figure(figsize = (8, 7))\n",
    "plt.title(\"The Neural Network Training Accuracy\", fontsize= 14.0, fontweight='bold')\n",
    "plt.xlabel(\"Iteration\", labelpad = 10, fontsize= 12.0)\n",
    "#plt.xticks(np.arange(0, iterations + 2000, step=2000))\n",
    "plt.ylabel(\"Accuracy\", labelpad = 20, fontsize= 12.0)\n",
    "plt.plot(iteration_list, NN_accuracy, linestyle = \"-\", lw = 2, color = \"seagreen\")"
   ]
  },
  {
   "cell_type": "markdown",
   "id": "3665d8b3",
   "metadata": {},
   "source": [
    "## Sci-Kit Learn Logistic Regression"
   ]
  },
  {
   "cell_type": "code",
   "execution_count": 12,
   "id": "6d7cd667",
   "metadata": {},
   "outputs": [
    {
     "name": "stdout",
     "output_type": "stream",
     "text": [
      "Coefficients:  [[ 1.41857005  2.07104687 -0.49418005  0.49070737 -0.09795486  3.01019895\n",
      "   0.59780144  1.06643657]]\n",
      "Intercept:  [-0.63239221]\n",
      "\n",
      "Training Metrics\n",
      "Accuracy: 0.7687296416938111\n",
      "Precision: 0.7329192546583851\n",
      "Recall: 0.543778801843318\n",
      "F1 Score: 0.6243386243386243\n",
      "\n",
      "Testing Metrics\n",
      "Accuracy: 0.7662337662337663\n",
      "Precision: 0.6744186046511628\n",
      "Recall: 0.5686274509803921\n",
      "F1 Score: 0.6170212765957446\n",
      "\n",
      "Train Accuracy:  0.7687296416938111\n",
      "\n",
      "Test Accuracy:  0.7662337662337663\n"
     ]
    }
   ],
   "source": [
    "from sklearn.linear_model import LogisticRegression\n",
    "from sklearn.metrics import accuracy_score, precision_score, recall_score, f1_score\n",
    "from sklearn.model_selection import train_test_split\n",
    "\n",
    "\n",
    "X_train, X_test, y_train, y_test = train_test_split(X_normalized, y, test_size = 0.2, random_state = 60)\n",
    "\n",
    "log_reg = LogisticRegression(solver='liblinear', random_state=0)\n",
    "log_reg.fit(X_train, y_train)\n",
    "\n",
    "y_train_pred = log_reg.predict(X_train)\n",
    "\n",
    "#weights and bias of neural network:\n",
    "print(\"Coefficients: \", log_reg.coef_)\n",
    "print(\"Intercept: \", log_reg.intercept_)\n",
    "\n",
    "train_accuracy = accuracy_score(y_train, y_train_pred)\n",
    "train_precision = precision_score(y_train, y_train_pred)\n",
    "train_recall = recall_score(y_train, y_train_pred)\n",
    "train_f1 = f1_score(y_train, y_train_pred)\n",
    "\n",
    "# Print the Train metrics\n",
    "print(\"\\nTraining Metrics\")\n",
    "print(f\"Accuracy: {train_accuracy}\")\n",
    "print(f\"Precision: {train_precision}\")\n",
    "print(f\"Recall: {train_recall}\")\n",
    "print(f\"F1 Score: {train_f1}\")\n",
    "\n",
    "y_pred = log_reg.predict(X_test)\n",
    "accuracy = accuracy_score(y_test, y_pred)\n",
    "precision = precision_score(y_test, y_pred)\n",
    "recall = recall_score(y_test, y_pred)\n",
    "f1 = f1_score(y_test, y_pred)\n",
    "\n",
    "# Print the Test metrics\n",
    "print(\"\\nTesting Metrics\")\n",
    "print(f\"Accuracy: {accuracy}\")\n",
    "print(f\"Precision: {precision}\")\n",
    "print(f\"Recall: {recall}\")\n",
    "print(f\"F1 Score: {f1}\")\n",
    "\n",
    "#Train Accuracy:\n",
    "print(\"\\nTrain Accuracy: \", log_reg.score(X_train, y_train))\n",
    "\n",
    "y_pred = log_reg.predict(X_test)\n",
    "\n",
    "# Test Accuracy:\n",
    "print(\"\\nTest Accuracy: \", log_reg.score(X_test, y_test))"
   ]
  },
  {
   "cell_type": "markdown",
   "id": "75fae78c",
   "metadata": {},
   "source": [
    "## Sci-Kit Learn Neural Network"
   ]
  },
  {
   "cell_type": "code",
   "execution_count": 13,
   "id": "e9a4e44f",
   "metadata": {},
   "outputs": [
    {
     "name": "stdout",
     "output_type": "stream",
     "text": [
      "Training Metrics\n",
      "Accuracy: 0.7736156351791531\n",
      "Precision: 0.738255033557047\n",
      "Recall: 0.5238095238095238\n",
      "F1 Score: 0.6128133704735377\n",
      "\n",
      "Testing Metrics\n",
      "Accuracy: 0.7337662337662337\n",
      "Precision: 0.7741935483870968\n",
      "Recall: 0.41379310344827586\n",
      "F1 Score: 0.5393258426966293\n"
     ]
    }
   ],
   "source": [
    "from sklearn.neural_network import MLPClassifier\n",
    "from sklearn.datasets import make_classification\n",
    "from sklearn.model_selection import train_test_split\n",
    "from sklearn.metrics import accuracy_score, precision_score, recall_score, f1_score\n",
    "\n",
    "X_train, X_test, y_train, y_test = train_test_split(X_normalized, y, test_size = 0.2, random_state = 70)\n",
    "\n",
    "mlp = MLPClassifier(hidden_layer_sizes=(5,), activation='logistic', max_iter=70000)\n",
    "#there is one hidden layer here with 5 neurons. And the activation function is sigmoid. The number of iterations = 20000\n",
    "\n",
    "mlp.fit(X_train, y_train)\n",
    "\n",
    "y_train_pred = mlp.predict(X_train)\n",
    "\n",
    "train_accuracy = accuracy_score(y_train, y_train_pred)\n",
    "train_precision = precision_score(y_train, y_train_pred)\n",
    "train_recall = recall_score(y_train, y_train_pred)\n",
    "train_f1 = f1_score(y_train, y_train_pred)\n",
    "\n",
    "# Print the Train metrics\n",
    "print(\"Training Metrics\")\n",
    "print(f\"Accuracy: {train_accuracy}\")\n",
    "print(f\"Precision: {train_precision}\")\n",
    "print(f\"Recall: {train_recall}\")\n",
    "print(f\"F1 Score: {train_f1}\")\n",
    "\n",
    "\n",
    "y_pred = mlp.predict(X_test)\n",
    "accuracy = accuracy_score(y_test, y_pred)\n",
    "precision = precision_score(y_test, y_pred)\n",
    "recall = recall_score(y_test, y_pred)\n",
    "f1 = f1_score(y_test, y_pred)\n",
    "\n",
    "# Print the Test metrics\n",
    "print(\"\\nTesting Metrics\")\n",
    "print(f\"Accuracy: {accuracy}\")\n",
    "print(f\"Precision: {precision}\")\n",
    "print(f\"Recall: {recall}\")\n",
    "print(f\"F1 Score: {f1}\")"
   ]
  },
  {
   "cell_type": "markdown",
   "id": "d113e4a3",
   "metadata": {},
   "source": [
    "## Question 5: Building Very Large Neural Network"
   ]
  },
  {
   "cell_type": "code",
   "execution_count": 14,
   "id": "dc09b6e6",
   "metadata": {},
   "outputs": [
    {
     "name": "stdout",
     "output_type": "stream",
     "text": [
      "Training Metrics\n",
      "Accuracy: 0.7736156351791531\n",
      "Precision: 0.6983240223463687\n",
      "Recall: 0.5952380952380952\n",
      "F1 Score: 0.6426735218508998\n",
      "\n",
      "Testing Metrics\n",
      "Accuracy: 0.7467532467532467\n",
      "Precision: 0.7567567567567568\n",
      "Recall: 0.4827586206896552\n",
      "F1 Score: 0.5894736842105263\n"
     ]
    }
   ],
   "source": [
    "from sklearn.neural_network import MLPClassifier\n",
    "from sklearn.datasets import make_classification\n",
    "from sklearn.model_selection import train_test_split\n",
    "from sklearn.metrics import accuracy_score, precision_score, recall_score, f1_score\n",
    "\n",
    "# Assuming X_normalized and y are already defined\n",
    "X_train, X_test, y_train, y_test = train_test_split(X_normalized, y, test_size=0.2, random_state=70)\n",
    "\n",
    "# Created a very large Neural Network with 7 hidden layers and 100 neurons in each layer\n",
    "mlp = MLPClassifier(hidden_layer_sizes=(100, 7), activation='logistic', max_iter=70000)\n",
    "\n",
    "mlp.fit(X_train, y_train)\n",
    "\n",
    "# Evaluate the model on the training and test sets\n",
    "y_train_pred = mlp.predict(X_train)\n",
    "train_accuracy = accuracy_score(y_train, y_train_pred)\n",
    "train_precision = precision_score(y_train, y_train_pred)\n",
    "train_recall = recall_score(y_train, y_train_pred)\n",
    "train_f1 = f1_score(y_train, y_train_pred)\n",
    "\n",
    "print(\"Training Metrics\")\n",
    "print(f\"Accuracy: {train_accuracy}\")\n",
    "print(f\"Precision: {train_precision}\")\n",
    "print(f\"Recall: {train_recall}\")\n",
    "print(f\"F1 Score: {train_f1}\")\n",
    "\n",
    "y_pred = mlp.predict(X_test)\n",
    "accuracy = accuracy_score(y_test, y_pred)\n",
    "precision = precision_score(y_test, y_pred)\n",
    "recall = recall_score(y_test, y_pred)\n",
    "f1 = f1_score(y_test, y_pred)\n",
    "\n",
    "print(\"\\nTesting Metrics\")\n",
    "print(f\"Accuracy: {accuracy}\")\n",
    "print(f\"Precision: {precision}\")\n",
    "print(f\"Recall: {recall}\")\n",
    "print(f\"F1 Score: {f1}\")\n"
   ]
  },
  {
   "cell_type": "markdown",
   "id": "8f16d474",
   "metadata": {},
   "source": [
    "Even with a very large Neural Network (7 hidden layers and 100 Neurons within Each hidden layer), the model did not significantly improve its training accuracy"
   ]
  },
  {
   "cell_type": "code",
   "execution_count": null,
   "id": "9b2e902d",
   "metadata": {},
   "outputs": [],
   "source": []
  }
 ],
 "metadata": {
  "kernelspec": {
   "display_name": "Python 3 (ipykernel)",
   "language": "python",
   "name": "python3"
  },
  "language_info": {
   "codemirror_mode": {
    "name": "ipython",
    "version": 3
   },
   "file_extension": ".py",
   "mimetype": "text/x-python",
   "name": "python",
   "nbconvert_exporter": "python",
   "pygments_lexer": "ipython3",
   "version": "3.10.9"
  }
 },
 "nbformat": 4,
 "nbformat_minor": 5
}
